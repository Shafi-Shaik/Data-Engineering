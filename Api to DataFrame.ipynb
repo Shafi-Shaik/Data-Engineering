{
 "cells": [
  {
   "cell_type": "code",
   "execution_count": 1,
   "id": "bed6ccea-3fd3-4fd6-b148-7d52aebb136e",
   "metadata": {},
   "outputs": [],
   "source": [
    "import requests\n",
    "import pandas as pd"
   ]
  },
  {
   "cell_type": "code",
   "execution_count": 2,
   "id": "27e6c1b3-89e2-4a57-9acd-17b2f92a6b8b",
   "metadata": {
    "scrolled": true,
    "tags": []
   },
   "outputs": [],
   "source": [
    "data= requests.get('https://data.snb.ch/api/cube/snbbipo/data/csv/en').text\n"
   ]
  },
  {
   "cell_type": "code",
   "execution_count": 3,
   "id": "b1716b11-bb6f-4eb5-a152-58f3b43bd6c2",
   "metadata": {},
   "outputs": [
    {
     "data": {
      "text/plain": [
       "str"
      ]
     },
     "execution_count": 3,
     "metadata": {},
     "output_type": "execute_result"
    }
   ],
   "source": [
    "type(data)"
   ]
  },
  {
   "cell_type": "code",
   "execution_count": 4,
   "id": "ae9d1488-b9ae-4f3d-b461-612f09808b8a",
   "metadata": {},
   "outputs": [
    {
     "data": {
      "text/plain": [
       "str"
      ]
     },
     "execution_count": 4,
     "metadata": {},
     "output_type": "execute_result"
    }
   ],
   "source": [
    "dataList=data.splitlines()\n",
    "type(data)"
   ]
  },
  {
   "cell_type": "code",
   "execution_count": 5,
   "id": "64e4d020-0f45-4a60-b951-6e1220114046",
   "metadata": {
    "scrolled": true,
    "tags": []
   },
   "outputs": [
    {
     "data": {
      "text/plain": [
       "['\"CubeId\";\"snbbipo\"',\n",
       " '\"PublishingDate\";\"2023-05-31 09:00\"',\n",
       " '',\n",
       " '\"Date\";\"D0\";\"Value\"',\n",
       " '\"1996-12\";\"GFG\";\"11903.9\"',\n",
       " '\"1996-12\";\"D\";\"49328.4\"',\n",
       " '\"1996-12\";\"RIWF\";\"2067.8\"',\n",
       " '\"1996-12\";\"IZ\";\"290\"',\n",
       " '\"1996-12\";\"W\";\"204.3\"',\n",
       " '\"1996-12\";\"FRGSF\";',\n",
       " '\"1996-12\";\"FRGUSD\";']"
      ]
     },
     "execution_count": 5,
     "metadata": {},
     "output_type": "execute_result"
    }
   ],
   "source": [
    "dataList[:11]"
   ]
  },
  {
   "cell_type": "code",
   "execution_count": 6,
   "id": "2301200e-a31d-49ed-89a1-089bc720ee6e",
   "metadata": {},
   "outputs": [
    {
     "data": {
      "text/plain": [
       "['\"1996-12\";\"GFG\";\"11903.9\"',\n",
       " '\"1996-12\";\"D\";\"49328.4\"',\n",
       " '\"1996-12\";\"RIWF\";\"2067.8\"',\n",
       " '\"1996-12\";\"IZ\";\"290\"',\n",
       " '\"1996-12\";\"W\";\"204.3\"']"
      ]
     },
     "execution_count": 6,
     "metadata": {},
     "output_type": "execute_result"
    }
   ],
   "source": [
    "# remove the first 4 rows as these are unnecessary data\n",
    "dataList=dataList[4:]\n",
    "dataList[:5]"
   ]
  },
  {
   "cell_type": "code",
   "execution_count": 7,
   "id": "6bb83418-81f3-4305-bc46-f5e1a60c055f",
   "metadata": {},
   "outputs": [
    {
     "data": {
      "text/plain": [
       "[['1996-12', 'D', '49328.4'],\n",
       " ['1996-12', 'RIWF', '2067.8'],\n",
       " ['1996-12', 'IZ', '290'],\n",
       " ['1996-12', 'W', '204.3']]"
      ]
     },
     "execution_count": 7,
     "metadata": {},
     "output_type": "execute_result"
    }
   ],
   "source": [
    "# replace double quot with none\n",
    "dataList = list(map(lambda x : x.replace('\"','').split(';'),dataList))\n",
    "dataList[1:5]\n"
   ]
  },
  {
   "cell_type": "code",
   "execution_count": 8,
   "id": "b56229bd-1c14-4662-9686-08d809ee278d",
   "metadata": {},
   "outputs": [
    {
     "data": {
      "text/plain": [
       "list"
      ]
     },
     "execution_count": 8,
     "metadata": {},
     "output_type": "execute_result"
    }
   ],
   "source": [
    "type(dataList)"
   ]
  },
  {
   "cell_type": "code",
   "execution_count": 9,
   "id": "8c2fafed-1502-46a8-861e-16717c15765b",
   "metadata": {},
   "outputs": [
    {
     "data": {
      "text/plain": [
       "8876"
      ]
     },
     "execution_count": 9,
     "metadata": {},
     "output_type": "execute_result"
    }
   ],
   "source": [
    "len(dataList)"
   ]
  },
  {
   "cell_type": "code",
   "execution_count": 10,
   "id": "8ff0c3c6-1340-4bf5-a66e-e1f94bc67d99",
   "metadata": {},
   "outputs": [],
   "source": [
    "# remove first 4 items from a list\n",
    "dataList=dataList[4:]"
   ]
  },
  {
   "cell_type": "code",
   "execution_count": 11,
   "id": "b2f4ea22-442e-4fde-ad1c-0f7aef3d9dda",
   "metadata": {},
   "outputs": [
    {
     "data": {
      "text/plain": [
       "8872"
      ]
     },
     "execution_count": 11,
     "metadata": {},
     "output_type": "execute_result"
    }
   ],
   "source": [
    "len(dataList)"
   ]
  },
  {
   "cell_type": "code",
   "execution_count": 12,
   "id": "58ebe6b4-9e5e-4fc7-a460-f855920dc055",
   "metadata": {},
   "outputs": [
    {
     "data": {
      "text/plain": [
       "[['1996-12', 'FRGSF', ''],\n",
       " ['1996-12', 'FRGUSD', ''],\n",
       " ['1996-12', 'GSGSF', ''],\n",
       " ['1996-12', 'IG', '1581.7']]"
      ]
     },
     "execution_count": 12,
     "metadata": {},
     "output_type": "execute_result"
    }
   ],
   "source": [
    "dataList[1:5]"
   ]
  },
  {
   "cell_type": "markdown",
   "id": "3b3e97bd-869c-4e3d-a1e0-dfd5a42b3c4d",
   "metadata": {
    "tags": []
   },
   "source": [
    "## creating DataFrame using this List of lists"
   ]
  },
  {
   "cell_type": "code",
   "execution_count": 13,
   "id": "fa18b128-9a82-4210-8c01-bd208c9e803b",
   "metadata": {
    "scrolled": true,
    "tags": []
   },
   "outputs": [
    {
     "data": {
      "text/plain": [
       "(8872, 3)"
      ]
     },
     "execution_count": 13,
     "metadata": {},
     "output_type": "execute_result"
    }
   ],
   "source": [
    "columns = ['Year-Month','Name','value']\n",
    "\n",
    "df=pd.DataFrame(dataList,columns=columns)\n",
    "df.shape"
   ]
  },
  {
   "cell_type": "code",
   "execution_count": 14,
   "id": "ea4fc86b-81a2-416f-b942-c143ce90ef42",
   "metadata": {
    "scrolled": true,
    "tags": []
   },
   "outputs": [
    {
     "data": {
      "text/html": [
       "<div>\n",
       "<style scoped>\n",
       "    .dataframe tbody tr th:only-of-type {\n",
       "        vertical-align: middle;\n",
       "    }\n",
       "\n",
       "    .dataframe tbody tr th {\n",
       "        vertical-align: top;\n",
       "    }\n",
       "\n",
       "    .dataframe thead th {\n",
       "        text-align: right;\n",
       "    }\n",
       "</style>\n",
       "<table border=\"1\" class=\"dataframe\">\n",
       "  <thead>\n",
       "    <tr style=\"text-align: right;\">\n",
       "      <th></th>\n",
       "      <th>Year-Month</th>\n",
       "      <th>Name</th>\n",
       "      <th>value</th>\n",
       "    </tr>\n",
       "  </thead>\n",
       "  <tbody>\n",
       "    <tr>\n",
       "      <th>0</th>\n",
       "      <td>1996-12</td>\n",
       "      <td>W</td>\n",
       "      <td>204.3</td>\n",
       "    </tr>\n",
       "    <tr>\n",
       "      <th>1</th>\n",
       "      <td>1996-12</td>\n",
       "      <td>FRGSF</td>\n",
       "      <td>NaN</td>\n",
       "    </tr>\n",
       "    <tr>\n",
       "      <th>2</th>\n",
       "      <td>1996-12</td>\n",
       "      <td>FRGUSD</td>\n",
       "      <td>NaN</td>\n",
       "    </tr>\n",
       "    <tr>\n",
       "      <th>3</th>\n",
       "      <td>1996-12</td>\n",
       "      <td>GSGSF</td>\n",
       "      <td>NaN</td>\n",
       "    </tr>\n",
       "    <tr>\n",
       "      <th>4</th>\n",
       "      <td>1996-12</td>\n",
       "      <td>IG</td>\n",
       "      <td>1581.7</td>\n",
       "    </tr>\n",
       "  </tbody>\n",
       "</table>\n",
       "</div>"
      ],
      "text/plain": [
       "  Year-Month    Name   value\n",
       "0    1996-12       W   204.3\n",
       "1    1996-12   FRGSF     NaN\n",
       "2    1996-12  FRGUSD     NaN\n",
       "3    1996-12   GSGSF     NaN\n",
       "4    1996-12      IG  1581.7"
      ]
     },
     "execution_count": 14,
     "metadata": {},
     "output_type": "execute_result"
    }
   ],
   "source": [
    "df['value'] = pd.to_numeric(df['value'])\n",
    "df.head()"
   ]
  },
  {
   "cell_type": "code",
   "execution_count": 15,
   "id": "1c985c7d-7787-42fc-b06e-8325bda2917e",
   "metadata": {},
   "outputs": [
    {
     "data": {
      "text/plain": [
       "Year-Month     object\n",
       "Name           object\n",
       "value         float64\n",
       "dtype: object"
      ]
     },
     "execution_count": 15,
     "metadata": {},
     "output_type": "execute_result"
    }
   ],
   "source": [
    "df.dtypes"
   ]
  },
  {
   "cell_type": "code",
   "execution_count": 16,
   "id": "62fc31c0-4a1b-4cfd-91dc-d48a427478e6",
   "metadata": {},
   "outputs": [
    {
     "data": {
      "text/html": [
       "<div>\n",
       "<style scoped>\n",
       "    .dataframe tbody tr th:only-of-type {\n",
       "        vertical-align: middle;\n",
       "    }\n",
       "\n",
       "    .dataframe tbody tr th {\n",
       "        vertical-align: top;\n",
       "    }\n",
       "\n",
       "    .dataframe thead th {\n",
       "        text-align: right;\n",
       "    }\n",
       "</style>\n",
       "<table border=\"1\" class=\"dataframe\">\n",
       "  <thead>\n",
       "    <tr style=\"text-align: right;\">\n",
       "      <th></th>\n",
       "      <th>Year-Month</th>\n",
       "      <th>Name</th>\n",
       "      <th>value</th>\n",
       "    </tr>\n",
       "  </thead>\n",
       "  <tbody>\n",
       "    <tr>\n",
       "      <th>0</th>\n",
       "      <td>1996-12</td>\n",
       "      <td>W</td>\n",
       "      <td>204.3</td>\n",
       "    </tr>\n",
       "    <tr>\n",
       "      <th>1</th>\n",
       "      <td>1996-12</td>\n",
       "      <td>FRGSF</td>\n",
       "      <td>0.0</td>\n",
       "    </tr>\n",
       "    <tr>\n",
       "      <th>2</th>\n",
       "      <td>1996-12</td>\n",
       "      <td>FRGUSD</td>\n",
       "      <td>0.0</td>\n",
       "    </tr>\n",
       "    <tr>\n",
       "      <th>3</th>\n",
       "      <td>1996-12</td>\n",
       "      <td>GSGSF</td>\n",
       "      <td>0.0</td>\n",
       "    </tr>\n",
       "    <tr>\n",
       "      <th>4</th>\n",
       "      <td>1996-12</td>\n",
       "      <td>IG</td>\n",
       "      <td>1581.7</td>\n",
       "    </tr>\n",
       "  </tbody>\n",
       "</table>\n",
       "</div>"
      ],
      "text/plain": [
       "  Year-Month    Name   value\n",
       "0    1996-12       W   204.3\n",
       "1    1996-12   FRGSF     0.0\n",
       "2    1996-12  FRGUSD     0.0\n",
       "3    1996-12   GSGSF     0.0\n",
       "4    1996-12      IG  1581.7"
      ]
     },
     "execution_count": 16,
     "metadata": {},
     "output_type": "execute_result"
    }
   ],
   "source": [
    "df['value']=df['value'].fillna(0)\n",
    "df.head()"
   ]
  },
  {
   "cell_type": "code",
   "execution_count": 17,
   "id": "84d59223-1567-463f-aeca-68d85ca0267c",
   "metadata": {},
   "outputs": [
    {
     "data": {
      "text/html": [
       "<div>\n",
       "<style scoped>\n",
       "    .dataframe tbody tr th:only-of-type {\n",
       "        vertical-align: middle;\n",
       "    }\n",
       "\n",
       "    .dataframe tbody tr th {\n",
       "        vertical-align: top;\n",
       "    }\n",
       "\n",
       "    .dataframe thead th {\n",
       "        text-align: right;\n",
       "    }\n",
       "</style>\n",
       "<table border=\"1\" class=\"dataframe\">\n",
       "  <thead>\n",
       "    <tr style=\"text-align: right;\">\n",
       "      <th></th>\n",
       "      <th>Year-Month</th>\n",
       "      <th>Name</th>\n",
       "      <th>value</th>\n",
       "    </tr>\n",
       "  </thead>\n",
       "  <tbody>\n",
       "    <tr>\n",
       "      <th>0</th>\n",
       "      <td>1996-12</td>\n",
       "      <td>W</td>\n",
       "      <td>204.3</td>\n",
       "    </tr>\n",
       "    <tr>\n",
       "      <th>1</th>\n",
       "      <td>1996-12</td>\n",
       "      <td>FRGSF</td>\n",
       "      <td>0.0</td>\n",
       "    </tr>\n",
       "    <tr>\n",
       "      <th>2</th>\n",
       "      <td>1996-12</td>\n",
       "      <td>FRGUSD</td>\n",
       "      <td>0.0</td>\n",
       "    </tr>\n",
       "    <tr>\n",
       "      <th>3</th>\n",
       "      <td>1996-12</td>\n",
       "      <td>GSGSF</td>\n",
       "      <td>0.0</td>\n",
       "    </tr>\n",
       "    <tr>\n",
       "      <th>4</th>\n",
       "      <td>1996-12</td>\n",
       "      <td>IG</td>\n",
       "      <td>1581.7</td>\n",
       "    </tr>\n",
       "  </tbody>\n",
       "</table>\n",
       "</div>"
      ],
      "text/plain": [
       "  Year-Month    Name   value\n",
       "0    1996-12       W   204.3\n",
       "1    1996-12   FRGSF     0.0\n",
       "2    1996-12  FRGUSD     0.0\n",
       "3    1996-12   GSGSF     0.0\n",
       "4    1996-12      IG  1581.7"
      ]
     },
     "execution_count": 17,
     "metadata": {},
     "output_type": "execute_result"
    }
   ],
   "source": [
    "df['value']=df['value'].round(decimals=2)\n",
    "df.head()"
   ]
  },
  {
   "cell_type": "code",
   "execution_count": 18,
   "id": "23f3439f-020f-45b5-a2b6-2d3d3d106f65",
   "metadata": {},
   "outputs": [
    {
     "data": {
      "text/html": [
       "<div>\n",
       "<style scoped>\n",
       "    .dataframe tbody tr th:only-of-type {\n",
       "        vertical-align: middle;\n",
       "    }\n",
       "\n",
       "    .dataframe tbody tr th {\n",
       "        vertical-align: top;\n",
       "    }\n",
       "\n",
       "    .dataframe thead th {\n",
       "        text-align: right;\n",
       "    }\n",
       "</style>\n",
       "<table border=\"1\" class=\"dataframe\">\n",
       "  <thead>\n",
       "    <tr style=\"text-align: right;\">\n",
       "      <th></th>\n",
       "      <th>Year-Month</th>\n",
       "      <th>Name</th>\n",
       "      <th>value</th>\n",
       "    </tr>\n",
       "  </thead>\n",
       "  <tbody>\n",
       "    <tr>\n",
       "      <th>8867</th>\n",
       "      <td>2023-04</td>\n",
       "      <td>VF</td>\n",
       "      <td>17813.86</td>\n",
       "    </tr>\n",
       "    <tr>\n",
       "      <th>8868</th>\n",
       "      <td>2023-04</td>\n",
       "      <td>AIWFS</td>\n",
       "      <td>10639.52</td>\n",
       "    </tr>\n",
       "    <tr>\n",
       "      <th>8869</th>\n",
       "      <td>2023-04</td>\n",
       "      <td>SP</td>\n",
       "      <td>89.39</td>\n",
       "    </tr>\n",
       "    <tr>\n",
       "      <th>8870</th>\n",
       "      <td>2023-04</td>\n",
       "      <td>RE</td>\n",
       "      <td>78510.18</td>\n",
       "    </tr>\n",
       "    <tr>\n",
       "      <th>8871</th>\n",
       "      <td>2023-04</td>\n",
       "      <td>T1</td>\n",
       "      <td>932483.63</td>\n",
       "    </tr>\n",
       "  </tbody>\n",
       "</table>\n",
       "</div>"
      ],
      "text/plain": [
       "     Year-Month   Name      value\n",
       "8867    2023-04     VF   17813.86\n",
       "8868    2023-04  AIWFS   10639.52\n",
       "8869    2023-04     SP      89.39\n",
       "8870    2023-04     RE   78510.18\n",
       "8871    2023-04     T1  932483.63"
      ]
     },
     "execution_count": 18,
     "metadata": {},
     "output_type": "execute_result"
    }
   ],
   "source": [
    "df.tail()"
   ]
  },
  {
   "cell_type": "markdown",
   "id": "26686a9f-43f4-4338-b8c9-44d7357144b5",
   "metadata": {},
   "source": [
    "#### End of this Notebook; \n",
    "Author: < Shafi Mohiddin Shaik><hr>\n",
    "LinkedIn:[Click Here to Shafi's Linkedin Page](https://www.linkedin.com/in/shafi-shaik-0279651b0)"
   ]
  }
 ],
 "metadata": {
  "kernelspec": {
   "display_name": "Python 3 (ipykernel)",
   "language": "python",
   "name": "python3"
  },
  "language_info": {
   "codemirror_mode": {
    "name": "ipython",
    "version": 3
   },
   "file_extension": ".py",
   "mimetype": "text/x-python",
   "name": "python",
   "nbconvert_exporter": "python",
   "pygments_lexer": "ipython3",
   "version": "3.10.7"
  }
 },
 "nbformat": 4,
 "nbformat_minor": 5
}
