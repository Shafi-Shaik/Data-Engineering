{
 "cells": [
  {
   "cell_type": "code",
   "execution_count": 1,
   "id": "43b9822b-374a-46c1-b3b7-e66061cfe187",
   "metadata": {},
   "outputs": [],
   "source": [
    "import requests\n",
    "import os\n",
    "import pandas as pd"
   ]
  },
  {
   "cell_type": "code",
   "execution_count": 2,
   "id": "536a1816-3296-4803-abb1-159ea7a12239",
   "metadata": {},
   "outputs": [],
   "source": [
    "API_TOKEN=os.environ.get('API_KEY')\n",
    "include='local'\n",
    "url=f'https://cricket.sportmonks.com/api/v2.0/players?api_token={API_TOKEN}'\n",
    "out_dir=os.path.join(os.getcwd(),'output')"
   ]
  },
  {
   "cell_type": "code",
   "execution_count": 3,
   "id": "aaccc2bf-eff6-4053-ae9d-81b9fa25b7a3",
   "metadata": {
    "scrolled": true,
    "tags": []
   },
   "outputs": [],
   "source": [
    "rsp = requests.get(url)\n"
   ]
  },
  {
   "cell_type": "code",
   "execution_count": 4,
   "id": "351bb1e2-62b0-41e3-aaf1-186d3263567e",
   "metadata": {},
   "outputs": [
    {
     "name": "stdout",
     "output_type": "stream",
     "text": [
      "Successful request and data was returned\n"
     ]
    }
   ],
   "source": [
    "match rsp.status_code:\n",
    "    case 200:\n",
    "        print(\"Successful request and data was returned\")\n",
    "\n",
    "    case 400:\n",
    "        print(\"Part of the request is malformed; the exact reason can be found in the response\")\n",
    "\n",
    "    case 401:\n",
    "        print(\"Request is not authenticated\")\n",
    "    \n",
    "    case 403:\n",
    "        print(\"Unauthorized request to access data from an ineligible plan\")\n",
    "\n",
    "    case 429:\n",
    "        print(\"You have reached the response rate limit of your plan\")\n",
    "    case 500:\n",
    "        print(\"Internal error with our servers\")\n",
    "    case _:\n",
    "        print('not in switch statement')"
   ]
  },
  {
   "cell_type": "code",
   "execution_count": 5,
   "id": "52fd6695-9784-4ed7-a1a4-75aa97e0c7d2",
   "metadata": {},
   "outputs": [
    {
     "name": "stdout",
     "output_type": "stream",
     "text": [
      "['__attrs__', '__bool__', '__class__', '__delattr__', '__dict__', '__dir__', '__doc__', '__enter__', '__eq__', '__exit__', '__format__', '__ge__', '__getattribute__', '__getstate__', '__gt__', '__hash__', '__init__', '__init_subclass__', '__iter__', '__le__', '__lt__', '__module__', '__ne__', '__new__', '__nonzero__', '__reduce__', '__reduce_ex__', '__repr__', '__setattr__', '__setstate__', '__sizeof__', '__str__', '__subclasshook__', '__weakref__', '_content', '_content_consumed', '_next', 'apparent_encoding', 'close', 'connection', 'content', 'cookies', 'elapsed', 'encoding', 'headers', 'history', 'is_permanent_redirect', 'is_redirect', 'iter_content', 'iter_lines', 'json', 'links', 'next', 'ok', 'raise_for_status', 'raw', 'reason', 'request', 'status_code', 'text', 'url']\n"
     ]
    }
   ],
   "source": [
    "print(dir(rsp))"
   ]
  },
  {
   "cell_type": "code",
   "execution_count": 6,
   "id": "9cb066d8-deaa-4bc6-92df-362167164c29",
   "metadata": {},
   "outputs": [
    {
     "data": {
      "text/plain": [
       "{'Date': 'Sun, 04 Jun 2023 09:49:07 GMT', 'Content-Type': 'application/json', 'Transfer-Encoding': 'chunked', 'Connection': 'keep-alive', 'Cache-Control': 'no-cache, private', 'x-ratelimit-limit': '180', 'x-ratelimit-remaining': '178', 'strict-transport-security': 'max-age=31536000', 'vary': 'Accept-Encoding', 'Content-Encoding': 'gzip', 'CF-Cache-Status': 'DYNAMIC', 'Report-To': '{\"endpoints\":[{\"url\":\"https:\\\\/\\\\/a.nel.cloudflare.com\\\\/report\\\\/v3?s=pxdzajR%2FDfM19eRCL7UiEKBuHxGttDkeYii6zvjtbFsGAH7zuqlP%2FR4rdhIvVAw515asBPqrpeH9n4wVTfpHc7ZUN50S3mXTNIP0zG6AsB%2FCmyH4YKUpdn9qx3gMH7rxXyYP6ZmKroM%3D\"}],\"group\":\"cf-nel\",\"max_age\":604800}', 'NEL': '{\"success_fraction\":0,\"report_to\":\"cf-nel\",\"max_age\":604800}', 'Server': 'cloudflare', 'CF-RAY': '7d1f42f84be62961-BOM'}"
      ]
     },
     "execution_count": 6,
     "metadata": {},
     "output_type": "execute_result"
    }
   ],
   "source": [
    "headers=rsp.headers\n",
    "headers"
   ]
  },
  {
   "cell_type": "markdown",
   "id": "1bbaf05f-09b7-4fe1-b3be-23ce4c1345f9",
   "metadata": {
    "tags": []
   },
   "source": [
    "### Method 1: Extracting and Creating Dataframe using loop and dict methods"
   ]
  },
  {
   "cell_type": "code",
   "execution_count": 7,
   "id": "75d3887f-e45d-4482-a369-808625cdc0ba",
   "metadata": {
    "scrolled": true,
    "tags": []
   },
   "outputs": [
    {
     "data": {
      "text/plain": [
       "dict_keys(['data'])"
      ]
     },
     "execution_count": 7,
     "metadata": {},
     "output_type": "execute_result"
    }
   ],
   "source": [
    "data_json=rsp.json()\n",
    "data_json.keys()"
   ]
  },
  {
   "cell_type": "code",
   "execution_count": 8,
   "id": "cd8ad4bc-ba39-47c1-8c90-bef0eed8951c",
   "metadata": {},
   "outputs": [
    {
     "data": {
      "text/plain": [
       "list"
      ]
     },
     "execution_count": 8,
     "metadata": {},
     "output_type": "execute_result"
    }
   ],
   "source": [
    "type(data_json['data'])"
   ]
  },
  {
   "cell_type": "code",
   "execution_count": 9,
   "id": "edc52ddf-c516-4239-98a0-fc4797f6dfe8",
   "metadata": {},
   "outputs": [
    {
     "data": {
      "text/plain": [
       "[{'resource': 'players',\n",
       "  'id': 2,\n",
       "  'country_id': 52126,\n",
       "  'firstname': 'Ahmed',\n",
       "  'lastname': 'Shehzad',\n",
       "  'fullname': 'Ahmed Shehzad',\n",
       "  'image_path': 'https://cdn.sportmonks.com/images/cricket/players/2/2.png',\n",
       "  'dateofbirth': '1991-11-23',\n",
       "  'gender': 'm',\n",
       "  'battingstyle': 'right-hand-bat',\n",
       "  'bowlingstyle': 'legbreak',\n",
       "  'position': {'resource': 'positions', 'id': 1, 'name': 'Batsman'},\n",
       "  'updated_at': '2020-03-31T05:00:31.000000Z'},\n",
       " {'resource': 'players',\n",
       "  'id': 3,\n",
       "  'country_id': 52126,\n",
       "  'firstname': 'Anwar',\n",
       "  'lastname': 'Ali',\n",
       "  'fullname': 'Anwar Ali',\n",
       "  'image_path': 'https://cdn.sportmonks.com/images/cricket/players/3/3.png',\n",
       "  'dateofbirth': '1987-11-25',\n",
       "  'gender': 'm',\n",
       "  'battingstyle': 'right-hand-bat',\n",
       "  'bowlingstyle': 'right-arm-fast-medium',\n",
       "  'position': {'resource': 'positions', 'id': 2, 'name': 'Bowler'},\n",
       "  'updated_at': '2020-12-14T18:58:56.000000Z'}]"
      ]
     },
     "execution_count": 9,
     "metadata": {},
     "output_type": "execute_result"
    }
   ],
   "source": [
    "# As it is list lets see first 2 list items\n",
    "data_json['data'][0:2]"
   ]
  },
  {
   "cell_type": "code",
   "execution_count": 10,
   "id": "c2b833d9-f53b-4910-a718-c4a5280a0ae5",
   "metadata": {},
   "outputs": [],
   "source": [
    "#defining empty list to append data from APIs\n",
    "id=[]\n",
    "country_id=[]\n",
    "firstname=[]\n",
    "lastname=[]\n",
    "fullname=[]\n",
    "gender=[]\n",
    "battingstyle=[]\n",
    "bowlingstyle=[]\n",
    "player_type=[]\n",
    "playing_position=[]\n",
    "DOB=[]"
   ]
  },
  {
   "cell_type": "code",
   "execution_count": 11,
   "id": "fcac966a-5d19-45e5-8c35-b9dcfd68bd40",
   "metadata": {},
   "outputs": [],
   "source": [
    "for i in range(len(data_json['data'])):\n",
    "    id.append(data_json['data'][i]['id'])\n",
    "    country_id.append(data_json['data'][i]['country_id'])\n",
    "    firstname.append(data_json['data'][i]['firstname'])\n",
    "    lastname.append(data_json['data'][i]['lastname'])\n",
    "    fullname.append(data_json['data'][i]['fullname'])\n",
    "    DOB.append(data_json['data'][i]['dateofbirth'])\n",
    "    gender.append(data_json['data'][i]['gender'])\n",
    "    battingstyle.append(data_json['data'][i]['battingstyle'])\n",
    "    bowlingstyle.append(data_json['data'][i]['bowlingstyle'])\n",
    "    player_type.append(data_json['data'][i]['position']['name'])\n",
    "    playing_position.append(data_json['data'][i]['position']['id'])\n"
   ]
  },
  {
   "cell_type": "code",
   "execution_count": 12,
   "id": "2e9381e2-26f4-44ef-9402-998169028159",
   "metadata": {},
   "outputs": [
    {
     "data": {
      "text/html": [
       "<div>\n",
       "<style scoped>\n",
       "    .dataframe tbody tr th:only-of-type {\n",
       "        vertical-align: middle;\n",
       "    }\n",
       "\n",
       "    .dataframe tbody tr th {\n",
       "        vertical-align: top;\n",
       "    }\n",
       "\n",
       "    .dataframe thead th {\n",
       "        text-align: right;\n",
       "    }\n",
       "</style>\n",
       "<table border=\"1\" class=\"dataframe\">\n",
       "  <thead>\n",
       "    <tr style=\"text-align: right;\">\n",
       "      <th></th>\n",
       "      <th>ID</th>\n",
       "      <th>country_id</th>\n",
       "      <th>firstname</th>\n",
       "      <th>lastname</th>\n",
       "      <th>fullname</th>\n",
       "      <th>gender</th>\n",
       "      <th>battingstyle</th>\n",
       "      <th>bowlingstyle</th>\n",
       "      <th>player_type</th>\n",
       "      <th>playing_position</th>\n",
       "      <th>DOB</th>\n",
       "    </tr>\n",
       "  </thead>\n",
       "  <tbody>\n",
       "    <tr>\n",
       "      <th>0</th>\n",
       "      <td>2</td>\n",
       "      <td>52126</td>\n",
       "      <td>Ahmed</td>\n",
       "      <td>Shehzad</td>\n",
       "      <td>Ahmed Shehzad</td>\n",
       "      <td>m</td>\n",
       "      <td>right-hand-bat</td>\n",
       "      <td>legbreak</td>\n",
       "      <td>Batsman</td>\n",
       "      <td>1</td>\n",
       "      <td>1991-11-23</td>\n",
       "    </tr>\n",
       "    <tr>\n",
       "      <th>1</th>\n",
       "      <td>3</td>\n",
       "      <td>52126</td>\n",
       "      <td>Anwar</td>\n",
       "      <td>Ali</td>\n",
       "      <td>Anwar Ali</td>\n",
       "      <td>m</td>\n",
       "      <td>right-hand-bat</td>\n",
       "      <td>right-arm-fast-medium</td>\n",
       "      <td>Bowler</td>\n",
       "      <td>2</td>\n",
       "      <td>1987-11-25</td>\n",
       "    </tr>\n",
       "    <tr>\n",
       "      <th>2</th>\n",
       "      <td>4</td>\n",
       "      <td>52126</td>\n",
       "      <td>Sarfraz</td>\n",
       "      <td>Ahmed</td>\n",
       "      <td>Sarfraz Ahmed</td>\n",
       "      <td>m</td>\n",
       "      <td>right-hand-bat</td>\n",
       "      <td>right-arm-offbreak</td>\n",
       "      <td>Wicketkeeper</td>\n",
       "      <td>3</td>\n",
       "      <td>1987-05-22</td>\n",
       "    </tr>\n",
       "    <tr>\n",
       "      <th>3</th>\n",
       "      <td>5</td>\n",
       "      <td>52126</td>\n",
       "      <td>Azhar</td>\n",
       "      <td>Ali</td>\n",
       "      <td>Azhar Ali</td>\n",
       "      <td>m</td>\n",
       "      <td>right-hand-bat</td>\n",
       "      <td>legbreak</td>\n",
       "      <td>Batsman</td>\n",
       "      <td>1</td>\n",
       "      <td>1985-02-19</td>\n",
       "    </tr>\n",
       "    <tr>\n",
       "      <th>4</th>\n",
       "      <td>6</td>\n",
       "      <td>52126</td>\n",
       "      <td>Fakhar</td>\n",
       "      <td>Zaman</td>\n",
       "      <td>Fakhar Zaman</td>\n",
       "      <td>m</td>\n",
       "      <td>left-hand-bat</td>\n",
       "      <td>slow-left-arm-orthodox</td>\n",
       "      <td>Batsman</td>\n",
       "      <td>1</td>\n",
       "      <td>1990-04-10</td>\n",
       "    </tr>\n",
       "  </tbody>\n",
       "</table>\n",
       "</div>"
      ],
      "text/plain": [
       "   ID  country_id firstname lastname       fullname gender    battingstyle  \\\n",
       "0   2       52126     Ahmed  Shehzad  Ahmed Shehzad      m  right-hand-bat   \n",
       "1   3       52126     Anwar      Ali      Anwar Ali      m  right-hand-bat   \n",
       "2   4       52126   Sarfraz    Ahmed  Sarfraz Ahmed      m  right-hand-bat   \n",
       "3   5       52126     Azhar      Ali      Azhar Ali      m  right-hand-bat   \n",
       "4   6       52126    Fakhar    Zaman   Fakhar Zaman      m   left-hand-bat   \n",
       "\n",
       "             bowlingstyle   player_type  playing_position         DOB  \n",
       "0                legbreak       Batsman                 1  1991-11-23  \n",
       "1   right-arm-fast-medium        Bowler                 2  1987-11-25  \n",
       "2      right-arm-offbreak  Wicketkeeper                 3  1987-05-22  \n",
       "3                legbreak       Batsman                 1  1985-02-19  \n",
       "4  slow-left-arm-orthodox       Batsman                 1  1990-04-10  "
      ]
     },
     "execution_count": 12,
     "metadata": {},
     "output_type": "execute_result"
    }
   ],
   "source": [
    "L = list(map(list, zip(id,country_id,firstname,lastname,fullname,gender,battingstyle,bowlingstyle,player_type,playing_position,DOB)))\n",
    "players_df = pd.DataFrame(L, columns=['ID', 'country_id', 'firstname','lastname','fullname','gender','battingstyle','bowlingstyle','player_type','playing_position','DOB'])\n",
    "players_df.head()"
   ]
  },
  {
   "cell_type": "code",
   "execution_count": 13,
   "id": "ba908d16-86ba-4598-8f43-afdfaba1a712",
   "metadata": {},
   "outputs": [
    {
     "data": {
      "text/plain": [
       "(16198, 11)"
      ]
     },
     "execution_count": 13,
     "metadata": {},
     "output_type": "execute_result"
    }
   ],
   "source": [
    "players_df.shape"
   ]
  },
  {
   "cell_type": "code",
   "execution_count": 14,
   "id": "dbe88d28-2591-4160-b46b-3c5bbdcbf0d1",
   "metadata": {},
   "outputs": [],
   "source": [
    "players_df.to_csv(os.path.join (out_dir,'cricket_ETL_using_api.csv'),index=False)"
   ]
  },
  {
   "cell_type": "markdown",
   "id": "7926e5df-c0e7-4328-912b-38983746d118",
   "metadata": {},
   "source": [
    "### Method 2: Using Pandas json_normalize() method"
   ]
  },
  {
   "cell_type": "code",
   "execution_count": 15,
   "id": "886c8040-8d35-4246-8d63-1ff9eef398f1",
   "metadata": {},
   "outputs": [
    {
     "data": {
      "text/plain": [
       "(16198, 15)"
      ]
     },
     "execution_count": 15,
     "metadata": {},
     "output_type": "execute_result"
    }
   ],
   "source": [
    "df=pd.json_normalize(data_json['data'])\n",
    "df.shape"
   ]
  },
  {
   "cell_type": "code",
   "execution_count": 16,
   "id": "8f685fbb-5f49-4a77-b493-a7104bef22fd",
   "metadata": {},
   "outputs": [
    {
     "data": {
      "text/html": [
       "<div>\n",
       "<style scoped>\n",
       "    .dataframe tbody tr th:only-of-type {\n",
       "        vertical-align: middle;\n",
       "    }\n",
       "\n",
       "    .dataframe tbody tr th {\n",
       "        vertical-align: top;\n",
       "    }\n",
       "\n",
       "    .dataframe thead th {\n",
       "        text-align: right;\n",
       "    }\n",
       "</style>\n",
       "<table border=\"1\" class=\"dataframe\">\n",
       "  <thead>\n",
       "    <tr style=\"text-align: right;\">\n",
       "      <th></th>\n",
       "      <th>resource</th>\n",
       "      <th>id</th>\n",
       "      <th>country_id</th>\n",
       "      <th>firstname</th>\n",
       "      <th>lastname</th>\n",
       "      <th>fullname</th>\n",
       "      <th>image_path</th>\n",
       "      <th>dateofbirth</th>\n",
       "      <th>gender</th>\n",
       "      <th>battingstyle</th>\n",
       "      <th>bowlingstyle</th>\n",
       "      <th>updated_at</th>\n",
       "      <th>position.resource</th>\n",
       "      <th>position.id</th>\n",
       "      <th>position.name</th>\n",
       "    </tr>\n",
       "  </thead>\n",
       "  <tbody>\n",
       "    <tr>\n",
       "      <th>0</th>\n",
       "      <td>players</td>\n",
       "      <td>2</td>\n",
       "      <td>52126</td>\n",
       "      <td>Ahmed</td>\n",
       "      <td>Shehzad</td>\n",
       "      <td>Ahmed Shehzad</td>\n",
       "      <td>https://cdn.sportmonks.com/images/cricket/play...</td>\n",
       "      <td>1991-11-23</td>\n",
       "      <td>m</td>\n",
       "      <td>right-hand-bat</td>\n",
       "      <td>legbreak</td>\n",
       "      <td>2020-03-31T05:00:31.000000Z</td>\n",
       "      <td>positions</td>\n",
       "      <td>1</td>\n",
       "      <td>Batsman</td>\n",
       "    </tr>\n",
       "    <tr>\n",
       "      <th>1</th>\n",
       "      <td>players</td>\n",
       "      <td>3</td>\n",
       "      <td>52126</td>\n",
       "      <td>Anwar</td>\n",
       "      <td>Ali</td>\n",
       "      <td>Anwar Ali</td>\n",
       "      <td>https://cdn.sportmonks.com/images/cricket/play...</td>\n",
       "      <td>1987-11-25</td>\n",
       "      <td>m</td>\n",
       "      <td>right-hand-bat</td>\n",
       "      <td>right-arm-fast-medium</td>\n",
       "      <td>2020-12-14T18:58:56.000000Z</td>\n",
       "      <td>positions</td>\n",
       "      <td>2</td>\n",
       "      <td>Bowler</td>\n",
       "    </tr>\n",
       "    <tr>\n",
       "      <th>2</th>\n",
       "      <td>players</td>\n",
       "      <td>4</td>\n",
       "      <td>52126</td>\n",
       "      <td>Sarfraz</td>\n",
       "      <td>Ahmed</td>\n",
       "      <td>Sarfraz Ahmed</td>\n",
       "      <td>https://cdn.sportmonks.com/images/cricket/play...</td>\n",
       "      <td>1987-05-22</td>\n",
       "      <td>m</td>\n",
       "      <td>right-hand-bat</td>\n",
       "      <td>right-arm-offbreak</td>\n",
       "      <td>2020-04-07T08:51:02.000000Z</td>\n",
       "      <td>positions</td>\n",
       "      <td>3</td>\n",
       "      <td>Wicketkeeper</td>\n",
       "    </tr>\n",
       "    <tr>\n",
       "      <th>3</th>\n",
       "      <td>players</td>\n",
       "      <td>5</td>\n",
       "      <td>52126</td>\n",
       "      <td>Azhar</td>\n",
       "      <td>Ali</td>\n",
       "      <td>Azhar Ali</td>\n",
       "      <td>https://cdn.sportmonks.com/images/cricket/play...</td>\n",
       "      <td>1985-02-19</td>\n",
       "      <td>m</td>\n",
       "      <td>right-hand-bat</td>\n",
       "      <td>legbreak</td>\n",
       "      <td>2020-04-01T02:28:23.000000Z</td>\n",
       "      <td>positions</td>\n",
       "      <td>1</td>\n",
       "      <td>Batsman</td>\n",
       "    </tr>\n",
       "    <tr>\n",
       "      <th>4</th>\n",
       "      <td>players</td>\n",
       "      <td>6</td>\n",
       "      <td>52126</td>\n",
       "      <td>Fakhar</td>\n",
       "      <td>Zaman</td>\n",
       "      <td>Fakhar Zaman</td>\n",
       "      <td>https://cdn.sportmonks.com/images/cricket/play...</td>\n",
       "      <td>1990-04-10</td>\n",
       "      <td>m</td>\n",
       "      <td>left-hand-bat</td>\n",
       "      <td>slow-left-arm-orthodox</td>\n",
       "      <td>2020-04-02T02:22:22.000000Z</td>\n",
       "      <td>positions</td>\n",
       "      <td>1</td>\n",
       "      <td>Batsman</td>\n",
       "    </tr>\n",
       "  </tbody>\n",
       "</table>\n",
       "</div>"
      ],
      "text/plain": [
       "  resource  id  country_id firstname lastname       fullname  \\\n",
       "0  players   2       52126     Ahmed  Shehzad  Ahmed Shehzad   \n",
       "1  players   3       52126     Anwar      Ali      Anwar Ali   \n",
       "2  players   4       52126   Sarfraz    Ahmed  Sarfraz Ahmed   \n",
       "3  players   5       52126     Azhar      Ali      Azhar Ali   \n",
       "4  players   6       52126    Fakhar    Zaman   Fakhar Zaman   \n",
       "\n",
       "                                          image_path dateofbirth gender  \\\n",
       "0  https://cdn.sportmonks.com/images/cricket/play...  1991-11-23      m   \n",
       "1  https://cdn.sportmonks.com/images/cricket/play...  1987-11-25      m   \n",
       "2  https://cdn.sportmonks.com/images/cricket/play...  1987-05-22      m   \n",
       "3  https://cdn.sportmonks.com/images/cricket/play...  1985-02-19      m   \n",
       "4  https://cdn.sportmonks.com/images/cricket/play...  1990-04-10      m   \n",
       "\n",
       "     battingstyle            bowlingstyle                   updated_at  \\\n",
       "0  right-hand-bat                legbreak  2020-03-31T05:00:31.000000Z   \n",
       "1  right-hand-bat   right-arm-fast-medium  2020-12-14T18:58:56.000000Z   \n",
       "2  right-hand-bat      right-arm-offbreak  2020-04-07T08:51:02.000000Z   \n",
       "3  right-hand-bat                legbreak  2020-04-01T02:28:23.000000Z   \n",
       "4   left-hand-bat  slow-left-arm-orthodox  2020-04-02T02:22:22.000000Z   \n",
       "\n",
       "  position.resource  position.id position.name  \n",
       "0         positions            1       Batsman  \n",
       "1         positions            2        Bowler  \n",
       "2         positions            3  Wicketkeeper  \n",
       "3         positions            1       Batsman  \n",
       "4         positions            1       Batsman  "
      ]
     },
     "execution_count": 16,
     "metadata": {},
     "output_type": "execute_result"
    }
   ],
   "source": [
    "df.head()"
   ]
  },
  {
   "cell_type": "code",
   "execution_count": 17,
   "id": "4a24c8ae-d0dd-42ea-acee-3ba3e481e953",
   "metadata": {
    "scrolled": true,
    "tags": []
   },
   "outputs": [],
   "source": [
    "df.to_csv(os.path.join (out_dir,'cricket_ETL_using_api_json_normalize.csv'),index=False)"
   ]
  },
  {
   "cell_type": "markdown",
   "id": "12037c48-1fac-4713-9df0-8e2f74ded5da",
   "metadata": {},
   "source": [
    "#### End of this Notebook; \n",
    "Author: < Shafi Mohiddin Shaik><hr>\n",
    "LinkedIn:[Click Here to Shafi's Linkedin Page](https://www.linkedin.com/in/shafi-shaik-0279651b0)"
   ]
  }
 ],
 "metadata": {
  "kernelspec": {
   "display_name": "Python 3 (ipykernel)",
   "language": "python",
   "name": "python3"
  },
  "language_info": {
   "codemirror_mode": {
    "name": "ipython",
    "version": 3
   },
   "file_extension": ".py",
   "mimetype": "text/x-python",
   "name": "python",
   "nbconvert_exporter": "python",
   "pygments_lexer": "ipython3",
   "version": "3.10.7"
  }
 },
 "nbformat": 4,
 "nbformat_minor": 5
}
